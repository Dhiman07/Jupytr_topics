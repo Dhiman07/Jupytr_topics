{
 "cells": [
  {
   "cell_type": "code",
   "execution_count": 5,
   "metadata": {},
   "outputs": [
    {
     "name": "stdout",
     "output_type": "stream",
     "text": [
      "0    row1\n",
      "1    row2\n",
      "2     NaN\n",
      "3    row4\n",
      "4    row5\n",
      "5    row6\n",
      "6     NaN\n",
      "7    row8\n",
      "dtype: object\n"
     ]
    },
    {
     "data": {
      "text/plain": [
       "0    False\n",
       "1    False\n",
       "2     True\n",
       "3    False\n",
       "4    False\n",
       "5    False\n",
       "6     True\n",
       "7    False\n",
       "dtype: bool"
      ]
     },
     "execution_count": 5,
     "metadata": {},
     "output_type": "execute_result"
    }
   ],
   "source": [
    "#treating missing values\n",
    "import numpy as np\n",
    "import pandas as pd\n",
    "from pandas import Series,DataFrame\n",
    "missing=np.nan\n",
    "series_obj=Series(['row1','row2',missing,'row4','row5','row6',missing,'row8'])\n",
    "print(series_obj)\n",
    "#isnull method to figure out what data is missing\n",
    "series_obj.isnull()"
   ]
  },
  {
   "cell_type": "code",
   "execution_count": 13,
   "metadata": {},
   "outputs": [
    {
     "name": "stdout",
     "output_type": "stream",
     "text": [
      "          0         1         2         3         4         5\n",
      "0  0.870124  0.582277  0.278839  0.185911  0.411100  0.117376\n",
      "1  0.684969  0.437611  0.556229  0.367080  0.402366  0.113041\n",
      "2  0.447031  0.585445  0.161985  0.520719  0.326051  0.699186\n",
      "3  0.366395  0.836375  0.481343  0.516502  0.383048  0.997541\n",
      "4  0.514244  0.559053  0.034450  0.719930  0.421004  0.436935\n",
      "5  0.281701  0.900274  0.669612  0.456069  0.289804  0.525819\n",
      "          0         1         2         3         4         5\n",
      "0  0.870124  0.582277  0.278839  0.185911  0.411100  0.117376\n",
      "1  0.684969  0.437611  0.556229  0.367080  0.402366       NaN\n",
      "2  0.447031  0.585445  0.161985  0.520719  0.326051       NaN\n",
      "3       NaN  0.836375  0.481343  0.516502  0.383048       NaN\n",
      "4       NaN  0.559053  0.034450  0.719930  0.421004       NaN\n",
      "5       NaN  0.900274  0.669612  0.456069  0.289804  0.525819\n",
      "          0         1         2         3         4         5\n",
      "0  0.870124  0.582277  0.278839  0.185911  0.411100  0.117376\n",
      "1  0.684969  0.437611  0.556229  0.367080  0.402366  0.000000\n",
      "2  0.447031  0.585445  0.161985  0.520719  0.326051  0.000000\n",
      "3  0.000000  0.836375  0.481343  0.516502  0.383048  0.000000\n",
      "4  0.000000  0.559053  0.034450  0.719930  0.421004  0.000000\n",
      "5  0.000000  0.900274  0.669612  0.456069  0.289804  0.525819\n",
      "          0         1         2         3         4         5\n",
      "0  0.870124  0.582277  0.278839  0.185911  0.411100  0.117376\n",
      "1  0.684969  0.437611  0.556229  0.367080  0.402366  0.117376\n",
      "2  0.447031  0.585445  0.161985  0.520719  0.326051  0.117376\n",
      "3  0.447031  0.836375  0.481343  0.516502  0.383048  0.117376\n",
      "4  0.447031  0.559053  0.034450  0.719930  0.421004  0.117376\n",
      "5  0.447031  0.900274  0.669612  0.456069  0.289804  0.525819\n"
     ]
    }
   ],
   "source": [
    "#filling iin for missing values\n",
    "np.random.seed(25)\n",
    "DF_obj=DataFrame(np.random.rand(36).reshape(6,6))\n",
    "print(DF_obj)\n",
    "DF_obj.loc[3:5, 0]=missing\n",
    "DF_obj.loc[1:4, 5]=missing\n",
    "print(DF_obj)\n",
    "#finding missing value with filled method\n",
    "filled_DF=DF_obj.fillna(0)\n",
    "print(filled_DF)\n",
    "#fill forward method\n",
    "fill_DF=DF_obj.fillna(method='ffill')\n",
    "print(fill_DF)"
   ]
  },
  {
   "cell_type": "code",
   "execution_count": 14,
   "metadata": {},
   "outputs": [
    {
     "name": "stdout",
     "output_type": "stream",
     "text": [
      "          0         1         2         3         4         5\n",
      "0  0.870124  0.582277  0.278839  0.185911  0.411100  0.117376\n",
      "1  0.684969  0.437611  0.556229  0.367080  0.402366  0.113041\n",
      "2  0.447031  0.585445  0.161985  0.520719  0.326051  0.699186\n",
      "3  0.366395  0.836375  0.481343  0.516502  0.383048  0.997541\n",
      "4  0.514244  0.559053  0.034450  0.719930  0.421004  0.436935\n",
      "5  0.281701  0.900274  0.669612  0.456069  0.289804  0.525819\n",
      "          0         1         2         3         4         5\n",
      "0  0.870124  0.582277  0.278839  0.185911  0.411100  0.117376\n",
      "1  0.684969  0.437611  0.556229  0.367080  0.402366       NaN\n",
      "2  0.447031  0.585445  0.161985  0.520719  0.326051       NaN\n",
      "3       NaN  0.836375  0.481343  0.516502  0.383048       NaN\n",
      "4       NaN  0.559053  0.034450  0.719930  0.421004       NaN\n",
      "5       NaN  0.900274  0.669612  0.456069  0.289804  0.525819\n"
     ]
    },
    {
     "data": {
      "text/plain": [
       "0    3\n",
       "1    0\n",
       "2    0\n",
       "3    0\n",
       "4    0\n",
       "5    4\n",
       "dtype: int64"
      ]
     },
     "execution_count": 14,
     "metadata": {},
     "output_type": "execute_result"
    }
   ],
   "source": [
    "#counting missing values\n",
    "np.random.seed(25)\n",
    "DF_obj=DataFrame(np.random.rand(36).reshape(6,6))\n",
    "print(DF_obj)\n",
    "DF_obj.loc[3:5, 0]=missing\n",
    "DF_obj.loc[1:4, 5]=missing\n",
    "print(DF_obj)\n",
    "DF_obj.isnull().sum()"
   ]
  },
  {
   "cell_type": "code",
   "execution_count": 15,
   "metadata": {},
   "outputs": [
    {
     "data": {
      "text/html": [
       "<div>\n",
       "<style scoped>\n",
       "    .dataframe tbody tr th:only-of-type {\n",
       "        vertical-align: middle;\n",
       "    }\n",
       "\n",
       "    .dataframe tbody tr th {\n",
       "        vertical-align: top;\n",
       "    }\n",
       "\n",
       "    .dataframe thead th {\n",
       "        text-align: right;\n",
       "    }\n",
       "</style>\n",
       "<table border=\"1\" class=\"dataframe\">\n",
       "  <thead>\n",
       "    <tr style=\"text-align: right;\">\n",
       "      <th></th>\n",
       "      <th>1</th>\n",
       "      <th>2</th>\n",
       "      <th>3</th>\n",
       "      <th>4</th>\n",
       "    </tr>\n",
       "  </thead>\n",
       "  <tbody>\n",
       "    <tr>\n",
       "      <th>0</th>\n",
       "      <td>0.582277</td>\n",
       "      <td>0.278839</td>\n",
       "      <td>0.185911</td>\n",
       "      <td>0.411100</td>\n",
       "    </tr>\n",
       "    <tr>\n",
       "      <th>1</th>\n",
       "      <td>0.437611</td>\n",
       "      <td>0.556229</td>\n",
       "      <td>0.367080</td>\n",
       "      <td>0.402366</td>\n",
       "    </tr>\n",
       "    <tr>\n",
       "      <th>2</th>\n",
       "      <td>0.585445</td>\n",
       "      <td>0.161985</td>\n",
       "      <td>0.520719</td>\n",
       "      <td>0.326051</td>\n",
       "    </tr>\n",
       "    <tr>\n",
       "      <th>3</th>\n",
       "      <td>0.836375</td>\n",
       "      <td>0.481343</td>\n",
       "      <td>0.516502</td>\n",
       "      <td>0.383048</td>\n",
       "    </tr>\n",
       "    <tr>\n",
       "      <th>4</th>\n",
       "      <td>0.559053</td>\n",
       "      <td>0.034450</td>\n",
       "      <td>0.719930</td>\n",
       "      <td>0.421004</td>\n",
       "    </tr>\n",
       "    <tr>\n",
       "      <th>5</th>\n",
       "      <td>0.900274</td>\n",
       "      <td>0.669612</td>\n",
       "      <td>0.456069</td>\n",
       "      <td>0.289804</td>\n",
       "    </tr>\n",
       "  </tbody>\n",
       "</table>\n",
       "</div>"
      ],
      "text/plain": [
       "          1         2         3         4\n",
       "0  0.582277  0.278839  0.185911  0.411100\n",
       "1  0.437611  0.556229  0.367080  0.402366\n",
       "2  0.585445  0.161985  0.520719  0.326051\n",
       "3  0.836375  0.481343  0.516502  0.383048\n",
       "4  0.559053  0.034450  0.719930  0.421004\n",
       "5  0.900274  0.669612  0.456069  0.289804"
      ]
     },
     "execution_count": 15,
     "metadata": {},
     "output_type": "execute_result"
    }
   ],
   "source": [
    "#filtering out missing values\n",
    "DF_no_NaN=DF_obj.dropna(axis=1)\n",
    "DF_no_NaN"
   ]
  },
  {
   "cell_type": "code",
   "execution_count": 16,
   "metadata": {},
   "outputs": [
    {
     "data": {
      "text/html": [
       "<div>\n",
       "<style scoped>\n",
       "    .dataframe tbody tr th:only-of-type {\n",
       "        vertical-align: middle;\n",
       "    }\n",
       "\n",
       "    .dataframe tbody tr th {\n",
       "        vertical-align: top;\n",
       "    }\n",
       "\n",
       "    .dataframe thead th {\n",
       "        text-align: right;\n",
       "    }\n",
       "</style>\n",
       "<table border=\"1\" class=\"dataframe\">\n",
       "  <thead>\n",
       "    <tr style=\"text-align: right;\">\n",
       "      <th></th>\n",
       "      <th>0</th>\n",
       "      <th>1</th>\n",
       "      <th>2</th>\n",
       "      <th>3</th>\n",
       "      <th>4</th>\n",
       "      <th>5</th>\n",
       "    </tr>\n",
       "  </thead>\n",
       "  <tbody>\n",
       "    <tr>\n",
       "      <th>0</th>\n",
       "      <td>0.870124</td>\n",
       "      <td>0.582277</td>\n",
       "      <td>0.278839</td>\n",
       "      <td>0.185911</td>\n",
       "      <td>0.411100</td>\n",
       "      <td>0.117376</td>\n",
       "    </tr>\n",
       "    <tr>\n",
       "      <th>1</th>\n",
       "      <td>0.684969</td>\n",
       "      <td>0.437611</td>\n",
       "      <td>0.556229</td>\n",
       "      <td>0.367080</td>\n",
       "      <td>0.402366</td>\n",
       "      <td>NaN</td>\n",
       "    </tr>\n",
       "    <tr>\n",
       "      <th>2</th>\n",
       "      <td>0.447031</td>\n",
       "      <td>0.585445</td>\n",
       "      <td>0.161985</td>\n",
       "      <td>0.520719</td>\n",
       "      <td>0.326051</td>\n",
       "      <td>NaN</td>\n",
       "    </tr>\n",
       "    <tr>\n",
       "      <th>3</th>\n",
       "      <td>NaN</td>\n",
       "      <td>0.836375</td>\n",
       "      <td>0.481343</td>\n",
       "      <td>0.516502</td>\n",
       "      <td>0.383048</td>\n",
       "      <td>NaN</td>\n",
       "    </tr>\n",
       "    <tr>\n",
       "      <th>4</th>\n",
       "      <td>NaN</td>\n",
       "      <td>0.559053</td>\n",
       "      <td>0.034450</td>\n",
       "      <td>0.719930</td>\n",
       "      <td>0.421004</td>\n",
       "      <td>NaN</td>\n",
       "    </tr>\n",
       "    <tr>\n",
       "      <th>5</th>\n",
       "      <td>NaN</td>\n",
       "      <td>0.900274</td>\n",
       "      <td>0.669612</td>\n",
       "      <td>0.456069</td>\n",
       "      <td>0.289804</td>\n",
       "      <td>0.525819</td>\n",
       "    </tr>\n",
       "  </tbody>\n",
       "</table>\n",
       "</div>"
      ],
      "text/plain": [
       "          0         1         2         3         4         5\n",
       "0  0.870124  0.582277  0.278839  0.185911  0.411100  0.117376\n",
       "1  0.684969  0.437611  0.556229  0.367080  0.402366       NaN\n",
       "2  0.447031  0.585445  0.161985  0.520719  0.326051       NaN\n",
       "3       NaN  0.836375  0.481343  0.516502  0.383048       NaN\n",
       "4       NaN  0.559053  0.034450  0.719930  0.421004       NaN\n",
       "5       NaN  0.900274  0.669612  0.456069  0.289804  0.525819"
      ]
     },
     "execution_count": 16,
     "metadata": {},
     "output_type": "execute_result"
    }
   ],
   "source": [
    "#as we can see this method drops lots of data from the data set,so we can use predicting value rather than droping of value from row and column\n",
    "DF_obj.dropna(how='all')"
   ]
  },
  {
   "cell_type": "code",
   "execution_count": null,
   "metadata": {},
   "outputs": [],
   "source": [
    "#as we can see it doesnt drop any row and column as there isnt any row or column which contains all missing value\n"
   ]
  }
 ],
 "metadata": {
  "kernelspec": {
   "display_name": "Python 3",
   "language": "python",
   "name": "python3"
  },
  "language_info": {
   "codemirror_mode": {
    "name": "ipython",
    "version": 3
   },
   "file_extension": ".py",
   "mimetype": "text/x-python",
   "name": "python",
   "nbconvert_exporter": "python",
   "pygments_lexer": "ipython3",
   "version": "3.7.3"
  }
 },
 "nbformat": 4,
 "nbformat_minor": 2
}
