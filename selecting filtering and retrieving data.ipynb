{
 "cells": [
  {
   "cell_type": "code",
   "execution_count": 6,
   "metadata": {},
   "outputs": [
    {
     "name": "stdout",
     "output_type": "stream",
     "text": [
      "row1    0\n",
      "row2    1\n",
      "row3    2\n",
      "row4    3\n",
      "row5    4\n",
      "row6    5\n",
      "row7    6\n",
      "row8    7\n",
      "dtype: int32\n",
      "6\n",
      "row1    0\n",
      "row8    7\n",
      "dtype: int32\n"
     ]
    }
   ],
   "source": [
    "#selecting filtering and retrieving data\n",
    "import numpy as np\n",
    "import pandas as pd\n",
    "from pandas import Series,DataFrame\n",
    "series_obj=Series(np.arange(8),index=['row1','row2','row3','row4','row5','row6','row7','row8'])\n",
    "print(series_obj)\n",
    "print(series_obj['row7'])\n",
    "print(series_obj[[0,7]])"
   ]
  },
  {
   "cell_type": "code",
   "execution_count": 26,
   "metadata": {},
   "outputs": [
    {
     "name": "stdout",
     "output_type": "stream",
     "text": [
      "       column1   column2   column3   column4   column5   column6\n",
      "row1  0.870124  0.582277  0.278839  0.185911  0.411100  0.117376\n",
      "row2  0.684969  0.437611  0.556229  0.367080  0.402366  0.113041\n",
      "row3  0.447031  0.585445  0.161985  0.520719  0.326051  0.699186\n",
      "row4  0.366395  0.836375  0.481343  0.516502  0.383048  0.997541\n",
      "row5  0.514244  0.559053  0.034450  0.719930  0.421004  0.436935\n",
      "row6  0.281701  0.900274  0.669612  0.456069  0.289804  0.525819\n"
     ]
    }
   ],
   "source": [
    "#creating a dataframe and indexing\n",
    "np.random.seed(25)\n",
    "DF_obj=DataFrame(np.random.rand(36).reshape((6,6)),index=['row1','row2','row3','row4','row5','row6'],columns=['column1','column2','column3','column4','column5','column6'])\n",
    "print(DF_obj)\n",
    "#print(DF_obj.Ioc[['row2','row2'],['column5','column2']]"
   ]
  },
  {
   "cell_type": "code",
   "execution_count": 18,
   "metadata": {},
   "outputs": [
    {
     "name": "stdout",
     "output_type": "stream",
     "text": [
      "row3    2\n",
      "row4    3\n",
      "row5    4\n",
      "row6    5\n",
      "row7    6\n",
      "dtype: int32\n"
     ]
    }
   ],
   "source": [
    "#data slicing\n",
    "print(series_obj['row3':'row7'])"
   ]
  },
  {
   "cell_type": "code",
   "execution_count": 19,
   "metadata": {},
   "outputs": [
    {
     "name": "stdout",
     "output_type": "stream",
     "text": [
      "      column1  column2  column3  column4  column5  column6\n",
      "row1    False    False    False     True    False     True\n",
      "row2    False    False    False    False    False     True\n",
      "row3    False    False     True    False    False    False\n",
      "row4    False    False    False    False    False    False\n",
      "row5    False    False     True    False    False    False\n",
      "row6    False    False    False    False    False    False\n"
     ]
    }
   ],
   "source": [
    "#compairing with scalars\n",
    "print(DF_obj <.2)\n"
   ]
  },
  {
   "cell_type": "code",
   "execution_count": 21,
   "metadata": {},
   "outputs": [
    {
     "name": "stdout",
     "output_type": "stream",
     "text": [
      "row8    7\n",
      "dtype: int32\n"
     ]
    }
   ],
   "source": [
    "#filtering with scalars\n",
    "print(series_obj[series_obj>6])"
   ]
  },
  {
   "cell_type": "code",
   "execution_count": 25,
   "metadata": {},
   "outputs": [
    {
     "name": "stdout",
     "output_type": "stream",
     "text": [
      "row1    8\n",
      "row2    1\n",
      "row3    2\n",
      "row4    3\n",
      "row5    8\n",
      "row6    5\n",
      "row7    6\n",
      "row8    8\n",
      "dtype: int32\n"
     ]
    }
   ],
   "source": [
    "#setting values with scalars\n",
    "series_obj['row1','row5','row8']=8\n",
    "print(series_obj)"
   ]
  },
  {
   "cell_type": "code",
   "execution_count": null,
   "metadata": {},
   "outputs": [],
   "source": []
  }
 ],
 "metadata": {
  "kernelspec": {
   "display_name": "Python 3",
   "language": "python",
   "name": "python3"
  },
  "language_info": {
   "codemirror_mode": {
    "name": "ipython",
    "version": 3
   },
   "file_extension": ".py",
   "mimetype": "text/x-python",
   "name": "python",
   "nbconvert_exporter": "python",
   "pygments_lexer": "ipython3",
   "version": "3.7.1"
  }
 },
 "nbformat": 4,
 "nbformat_minor": 2
}
