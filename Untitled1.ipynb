{
 "cells": [
  {
   "cell_type": "code",
   "execution_count": 43,
   "metadata": {},
   "outputs": [
    {
     "name": "stdout",
     "output_type": "stream",
     "text": [
      "Dhiman's laptop\n",
      "dhiman's \"laptop\"\n"
     ]
    }
   ],
   "source": [
    "print(\"Dhiman's laptop\")\n",
    "#'\\' will ignore the special meaning of single cot\n",
    "print('dhiman\\'s \"laptop\"')"
   ]
  },
  {
   "cell_type": "code",
   "execution_count": 44,
   "metadata": {},
   "outputs": [
    {
     "name": "stdout",
     "output_type": "stream",
     "text": [
      "c:/dhiman/docs\n"
     ]
    }
   ],
   "source": [
    "#raw string is used for eliminating the special charecter of \\n which means new line in python\n",
    "print(r'c:/dhiman/docs')"
   ]
  },
  {
   "cell_type": "code",
   "execution_count": 55,
   "metadata": {},
   "outputs": [
    {
     "name": "stdout",
     "output_type": "stream",
     "text": [
      "19\n",
      "[[9.5, 'Dhiman', '25'], ['Dhiman', 'gg', 'ff']]\n",
      "['Dhiman', 'ff']\n"
     ]
    }
   ],
   "source": [
    "x=9\n",
    "y=10\n",
    "print(x+y)#we can use _ to access the previous output\n",
    "#string object can't support item assignment,in python string is immutable\n",
    "my_name='Dhiman paul'\n",
    "len(my_name)\n",
    "#list is mutable or we can change the value of a list,using append functions we can insert a value at the end and by insert method we can insert a value iat the begining \n",
    "values=[9.5,'Dhiman','25']\n",
    "names=['Dhiman','gg','ff']\n",
    "ml=[values,names]\n",
    "print(ml)\n",
    "(names.remove('gg'))\n",
    "print(names)"
   ]
  },
  {
   "cell_type": "code",
   "execution_count": 52,
   "metadata": {},
   "outputs": [
    {
     "ename": "IndexError",
     "evalue": "pop from empty list",
     "output_type": "error",
     "traceback": [
      "\u001b[1;31m---------------------------------------------------------------------------\u001b[0m",
      "\u001b[1;31mIndexError\u001b[0m                                Traceback (most recent call last)",
      "\u001b[1;32m<ipython-input-52-15279cb2cf42>\u001b[0m in \u001b[0;36m<module>\u001b[1;34m\u001b[0m\n\u001b[1;32m----> 1\u001b[1;33m \u001b[0mnames\u001b[0m\u001b[1;33m.\u001b[0m\u001b[0mpop\u001b[0m\u001b[1;33m(\u001b[0m\u001b[1;33m)\u001b[0m\u001b[1;33m\u001b[0m\u001b[1;33m\u001b[0m\u001b[0m\n\u001b[0m",
      "\u001b[1;31mIndexError\u001b[0m: pop from empty list"
     ]
    }
   ],
   "source": [
    "names.pop()"
   ]
  },
  {
   "cell_type": "code",
   "execution_count": null,
   "metadata": {},
   "outputs": [],
   "source": []
  }
 ],
 "metadata": {
  "kernelspec": {
   "display_name": "Python 3",
   "language": "python",
   "name": "python3"
  },
  "language_info": {
   "codemirror_mode": {
    "name": "ipython",
    "version": 3
   },
   "file_extension": ".py",
   "mimetype": "text/x-python",
   "name": "python",
   "nbconvert_exporter": "python",
   "pygments_lexer": "ipython3",
   "version": "3.7.3"
  }
 },
 "nbformat": 4,
 "nbformat_minor": 2
}
